{
 "cells": [
  {
   "cell_type": "code",
   "execution_count": 1,
   "id": "6ed81284-884e-46d8-9dfe-4953da789db6",
   "metadata": {},
   "outputs": [
    {
     "name": "stdout",
     "output_type": "stream",
     "text": [
      "Collecting shap\n",
      "  Downloading shap-0.48.0-cp313-cp313-win_amd64.whl.metadata (25 kB)\n",
      "Requirement already satisfied: numpy in c:\\users\\kausalya\\anaconda3\\lib\\site-packages (from shap) (2.1.3)\n",
      "Requirement already satisfied: scipy in c:\\users\\kausalya\\anaconda3\\lib\\site-packages (from shap) (1.15.3)\n",
      "Requirement already satisfied: scikit-learn in c:\\users\\kausalya\\anaconda3\\lib\\site-packages (from shap) (1.6.1)\n",
      "Requirement already satisfied: pandas in c:\\users\\kausalya\\anaconda3\\lib\\site-packages (from shap) (2.2.3)\n",
      "Requirement already satisfied: tqdm>=4.27.0 in c:\\users\\kausalya\\anaconda3\\lib\\site-packages (from shap) (4.67.1)\n",
      "Requirement already satisfied: packaging>20.9 in c:\\users\\kausalya\\anaconda3\\lib\\site-packages (from shap) (24.2)\n",
      "Collecting slicer==0.0.8 (from shap)\n",
      "  Downloading slicer-0.0.8-py3-none-any.whl.metadata (4.0 kB)\n",
      "Requirement already satisfied: numba>=0.54 in c:\\users\\kausalya\\anaconda3\\lib\\site-packages (from shap) (0.61.0)\n",
      "Requirement already satisfied: cloudpickle in c:\\users\\kausalya\\anaconda3\\lib\\site-packages (from shap) (3.0.0)\n",
      "Requirement already satisfied: typing-extensions in c:\\users\\kausalya\\anaconda3\\lib\\site-packages (from shap) (4.12.2)\n",
      "Requirement already satisfied: llvmlite<0.45,>=0.44.0dev0 in c:\\users\\kausalya\\anaconda3\\lib\\site-packages (from numba>=0.54->shap) (0.44.0)\n",
      "Requirement already satisfied: colorama in c:\\users\\kausalya\\anaconda3\\lib\\site-packages (from tqdm>=4.27.0->shap) (0.4.6)\n",
      "Requirement already satisfied: python-dateutil>=2.8.2 in c:\\users\\kausalya\\anaconda3\\lib\\site-packages (from pandas->shap) (2.9.0.post0)\n",
      "Requirement already satisfied: pytz>=2020.1 in c:\\users\\kausalya\\anaconda3\\lib\\site-packages (from pandas->shap) (2024.1)\n",
      "Requirement already satisfied: tzdata>=2022.7 in c:\\users\\kausalya\\anaconda3\\lib\\site-packages (from pandas->shap) (2025.2)\n",
      "Requirement already satisfied: six>=1.5 in c:\\users\\kausalya\\anaconda3\\lib\\site-packages (from python-dateutil>=2.8.2->pandas->shap) (1.17.0)\n",
      "Requirement already satisfied: joblib>=1.2.0 in c:\\users\\kausalya\\anaconda3\\lib\\site-packages (from scikit-learn->shap) (1.4.2)\n",
      "Requirement already satisfied: threadpoolctl>=3.1.0 in c:\\users\\kausalya\\anaconda3\\lib\\site-packages (from scikit-learn->shap) (3.5.0)\n",
      "Downloading shap-0.48.0-cp313-cp313-win_amd64.whl (545 kB)\n",
      "   ---------------------------------------- 0.0/545.1 kB ? eta -:--:--\n",
      "   ---------------------------------------- 0.0/545.1 kB ? eta -:--:--\n",
      "   ---------------------------------------- 545.1/545.1 kB 3.6 MB/s eta 0:00:00\n",
      "Downloading slicer-0.0.8-py3-none-any.whl (15 kB)\n",
      "Installing collected packages: slicer, shap\n",
      "\n",
      "   -------------------- ------------------- 1/2 [shap]\n",
      "   -------------------- ------------------- 1/2 [shap]\n",
      "   -------------------- ------------------- 1/2 [shap]\n",
      "   ---------------------------------------- 2/2 [shap]\n",
      "\n",
      "Successfully installed shap-0.48.0 slicer-0.0.8\n",
      "Note: you may need to restart the kernel to use updated packages.\n"
     ]
    }
   ],
   "source": [
    "pip install shap\n"
   ]
  },
  {
   "cell_type": "code",
   "execution_count": 2,
   "id": "072a4bbc-9ddf-47c0-95b9-75ddaa65c619",
   "metadata": {},
   "outputs": [],
   "source": [
    "import shap\n",
    "import joblib\n",
    "import pandas as pd\n",
    "\n",
    "# Load your binary pipeline\n",
    "pipe = joblib.load(\"best_model_pipeline.joblib\")\n",
    "\n",
    "# Create a small explainer using the trained RandomForest\n",
    "rf = pipe.named_steps[\"model\"]\n",
    "prep = pipe.named_steps[\"prep\"]\n",
    "\n",
    "def explain_row(df_row):\n",
    "    # preprocess to same format\n",
    "    X_trans = prep.transform(df_row)\n",
    "    explainer = shap.TreeExplainer(rf)\n",
    "    shap_values = explainer.shap_values(X_trans)[1]  # class 1 = fail\n",
    "    shap_abs = pd.Series(shap_values[0], index=prep.get_feature_names_out())\n",
    "    return shap_abs.sort_values(ascending=False)\n"
   ]
  },
  {
   "cell_type": "code",
   "execution_count": 3,
   "id": "0c0c84ea-91b7-4e21-9f23-c9407802d260",
   "metadata": {},
   "outputs": [],
   "source": [
    "def rule_based_reason(row):\n",
    "    reasons = []\n",
    "    temp_diff = row[\"Process temperature [K]\"].values[0] - row[\"Air temperature [K]\"].values[0]\n",
    "    if temp_diff > 80:\n",
    "        reasons.append(\"High process–air temperature difference (possible heat-dissipation issue)\")\n",
    "    if row[\"Tool wear [min]\"].values[0] > 200:\n",
    "        reasons.append(\"Excessive tool wear\")\n",
    "    if row[\"Torque [Nm]\"].values[0] > 60:\n",
    "        reasons.append(\"High torque / overstrain\")\n",
    "    if row[\"Rotational speed [rpm]\"].values[0] > 2000:\n",
    "        reasons.append(\"High rotational speed\")\n",
    "    return reasons or [\"No specific rule triggered\"]\n"
   ]
  },
  {
   "cell_type": "code",
   "execution_count": null,
   "id": "1a04bc9a-487e-4d1a-adaf-dfe6df13412c",
   "metadata": {},
   "outputs": [],
   "source": []
  }
 ],
 "metadata": {
  "kernelspec": {
   "display_name": "Python 3 (ipykernel)",
   "language": "python",
   "name": "python3"
  },
  "language_info": {
   "codemirror_mode": {
    "name": "ipython",
    "version": 3
   },
   "file_extension": ".py",
   "mimetype": "text/x-python",
   "name": "python",
   "nbconvert_exporter": "python",
   "pygments_lexer": "ipython3",
   "version": "3.13.5"
  }
 },
 "nbformat": 4,
 "nbformat_minor": 5
}
