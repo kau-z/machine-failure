{
 "cells": [
  {
   "cell_type": "code",
   "execution_count": 3,
   "id": "881106a3-5827-4d81-a4cb-96cba501dfaf",
   "metadata": {},
   "outputs": [
    {
     "name": "stdout",
     "output_type": "stream",
     "text": [
      "Saved notebooks/indicator_thresholds.json: {'HDF_dt_k': 8.399999999999977, 'OSF_wear_torque': 9372.904999999999, 'TWF_wear': 206.04999999999927, 'PWF_low': 36641.248999999996, 'PWF_high': 84237.13}\n"
     ]
    }
   ],
   "source": [
    "# 04_indicator_thresholds.ipynb (or a .py you run once)\n",
    "\n",
    "import pandas as pd, numpy as np, json\n",
    "\n",
    "df = pd.read_csv(\"../data/ai4i2020.csv\")\n",
    "df[\"Temp diff [K]\"] = df[\"Process temperature [K]\"] - df[\"Air temperature [K]\"]\n",
    "df[\"power_index\"]   = df[\"Torque [Nm]\"] * df[\"Rotational speed [rpm]\"]\n",
    "df[\"wear_torque\"]   = df[\"Tool wear [min]\"] * df[\"Torque [Nm]\"]\n",
    "\n",
    "def best_thresh_for_greater(score_series, y, candidates):\n",
    "    # choose threshold t for (score > t) that maximizes F1\n",
    "    from sklearn.metrics import f1_score\n",
    "    best_t, best_f1 = None, -1\n",
    "    for t in candidates:\n",
    "        pred = (score_series > t).astype(int)\n",
    "        f1 = f1_score(y, pred, zero_division=0)\n",
    "        if f1 > best_f1:\n",
    "            best_f1, best_t = f1, t\n",
    "    return best_t, best_f1\n",
    "\n",
    "def best_band(power, y, lows, highs):\n",
    "    # choose (low, high) for (power < low) | (power > high)\n",
    "    from sklearn.metrics import f1_score\n",
    "    best = (None, None, -1)\n",
    "    for lo in lows:\n",
    "        for hi in highs:\n",
    "            if lo >= hi: \n",
    "                continue\n",
    "            pred = ((power < lo) | (power > hi)).astype(int)\n",
    "            f1 = f1_score(y, pred, zero_division=0)\n",
    "            if f1 > best[2]:\n",
    "                best = (lo, hi, f1)\n",
    "    return best\n",
    "\n",
    "# candidate grids (feel free to make denser)\n",
    "q = np.linspace(0.05, 0.95, 19)\n",
    "\n",
    "hdf_t, _ = best_thresh_for_greater(df[\"Temp diff [K]\"], df[\"HDF\"], df[\"Temp diff [K]\"].quantile(q))\n",
    "osf_t, _ = best_thresh_for_greater(df[\"wear_torque\"], df[\"OSF\"], df[\"wear_torque\"].quantile(q))\n",
    "twf_t, _ = best_thresh_for_greater(df[\"Tool wear [min]\"], df[\"TWF\"], df[\"Tool wear [min]\"].quantile(q))\n",
    "\n",
    "lo_cands = df[\"power_index\"].quantile(np.linspace(0.01, 0.40, 15))\n",
    "hi_cands = df[\"power_index\"].quantile(np.linspace(0.60, 0.99, 15))\n",
    "pwf_lo, pwf_hi, _ = best_band(df[\"power_index\"], df[\"PWF\"], lo_cands, hi_cands)\n",
    "\n",
    "cfg = {\n",
    "    \"HDF_dt_k\": float(hdf_t),\n",
    "    \"OSF_wear_torque\": float(osf_t),\n",
    "    \"TWF_wear\": float(twf_t),\n",
    "    \"PWF_low\": float(pwf_lo),\n",
    "    \"PWF_high\": float(pwf_hi)\n",
    "}\n",
    "with open(\"indicator_thresholds.json\", \"w\") as f:\n",
    "    json.dump(cfg, f, indent=2)\n",
    "print(\"Saved notebooks/indicator_thresholds.json:\", cfg)\n"
   ]
  },
  {
   "cell_type": "code",
   "execution_count": null,
   "id": "e99d7dad-d61b-4f1d-988b-65afd416a6cb",
   "metadata": {},
   "outputs": [],
   "source": []
  }
 ],
 "metadata": {
  "kernelspec": {
   "display_name": "Python 3 (ipykernel)",
   "language": "python",
   "name": "python3"
  },
  "language_info": {
   "codemirror_mode": {
    "name": "ipython",
    "version": 3
   },
   "file_extension": ".py",
   "mimetype": "text/x-python",
   "name": "python",
   "nbconvert_exporter": "python",
   "pygments_lexer": "ipython3",
   "version": "3.13.5"
  }
 },
 "nbformat": 4,
 "nbformat_minor": 5
}
